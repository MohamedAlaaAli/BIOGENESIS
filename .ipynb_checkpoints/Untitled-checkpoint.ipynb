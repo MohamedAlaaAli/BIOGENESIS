{
 "cells": [
  {
   "cell_type": "code",
   "execution_count": 2,
   "id": "46f9cc5c",
   "metadata": {},
   "outputs": [],
   "source": [
    "import tensorflow as tf\n",
    "import numpy as np\n",
    "import pandas as pd\n",
    "import os\n",
    "import matplotlib.pyplot as plt\n",
    "import cv2\n",
    "from tensorflow.keras.utils import normalize\n",
    "from keras.models import Sequential\n",
    "from keras.layers import Conv2D, MaxPooling2D\n",
    "from keras.layers import Activation, Dropout, Flatten, Dense\n",
    "from tensorflow.keras.utils import to_categorical\n"
   ]
  },
  {
   "cell_type": "code",
   "execution_count": 4,
   "id": "fae5e806",
   "metadata": {},
   "outputs": [
    {
     "name": "stdout",
     "output_type": "stream",
     "text": [
      "891\n"
     ]
    },
    {
     "data": {
      "text/plain": [
       "891"
      ]
     },
     "execution_count": 4,
     "metadata": {},
     "output_type": "execute_result"
    }
   ],
   "source": [
    "INPUT_SHAPE = (64,64)\n",
    "data_set_benign = []\n",
    "data_dir = \"C:/Users/EGYPT/Desktop/BreastCancer-DLMOdel/Dataset_BUSI_with_GT/benign\"\n",
    "for file_name in os.listdir(data_dir):\n",
    "    img = cv2.imread(os.path.join(data_dir, file_name))\n",
    "    img = cv2.resize(img,INPUT_SHAPE)\n",
    "    data_set_benign.append(np.array(img))\n",
    "print(len(data_set_benign))\n",
    "len(data_set_benign)"
   ]
  },
  {
   "cell_type": "code",
   "execution_count": 5,
   "id": "8d74b1c4",
   "metadata": {},
   "outputs": [
    {
     "data": {
      "text/plain": [
       "421"
      ]
     },
     "execution_count": 5,
     "metadata": {},
     "output_type": "execute_result"
    }
   ],
   "source": [
    "data_set_malignant = []\n",
    "data_dir1 = \"C:/Users/EGYPT/Desktop/BreastCancer-DLMOdel/Dataset_BUSI_with_GT/malignant\"\n",
    "for file_name in os.listdir(data_dir1):\n",
    "    img = cv2.imread(os.path.join(data_dir1, file_name))\n",
    "    img = cv2.resize(img,INPUT_SHAPE)\n",
    "    data_set_malignant.append(np.array(img))\n",
    "len(data_set_malignant)"
   ]
  },
  {
   "cell_type": "code",
   "execution_count": 6,
   "id": "ad332f34",
   "metadata": {},
   "outputs": [
    {
     "data": {
      "text/plain": [
       "266"
      ]
     },
     "execution_count": 6,
     "metadata": {},
     "output_type": "execute_result"
    }
   ],
   "source": [
    "# Normal cells data set loading \n",
    "data_set_normal = []\n",
    "data_dir2 = \"C:/Users/EGYPT/Desktop/BreastCancer-DLMOdel/Dataset_BUSI_with_GT/normal\"\n",
    "for file_name in os.listdir(data_dir2):\n",
    "    img = cv2.imread(os.path.join(data_dir2, file_name))\n",
    "    img = cv2.resize(img,INPUT_SHAPE)\n",
    "    data_set_normal.append(np.array(img))\n",
    "len(data_set_normal)"
   ]
  },
  {
   "cell_type": "code",
   "execution_count": null,
   "id": "de1e4fbe",
   "metadata": {},
   "outputs": [],
   "source": []
  }
 ],
 "metadata": {
  "kernelspec": {
   "display_name": "Python 3 (ipykernel)",
   "language": "python",
   "name": "python3"
  },
  "language_info": {
   "codemirror_mode": {
    "name": "ipython",
    "version": 3
   },
   "file_extension": ".py",
   "mimetype": "text/x-python",
   "name": "python",
   "nbconvert_exporter": "python",
   "pygments_lexer": "ipython3",
   "version": "3.9.12"
  }
 },
 "nbformat": 4,
 "nbformat_minor": 5
}
